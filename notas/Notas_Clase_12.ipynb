{
 "cells": [
  {
   "cell_type": "markdown",
   "metadata": {},
   "source": [
    "# Clase 12 Modelos Convolucionales"
   ]
  },
  {
   "cell_type": "markdown",
   "metadata": {},
   "source": [
    "Los modelos convulacionales han sido exitosos en el para el reconocimiento de imágenes o encontrar patrones de imágenes, aunque nos son exclusivos de este se pueden extender a otras situaciones o requerimientos."
   ]
  },
  {
   "cell_type": "markdown",
   "metadata": {},
   "source": [
    "Como se ha mencionado en clases anteriores las imagenes están representadas como pixeles se puede expandir como un vector de atributos y este se aplica a un modelo multicapa, (Figura 1) donde se tienen capas densas donde se conectan jerarquicamante."
   ]
  },
  {
   "cell_type": "markdown",
   "metadata": {},
   "source": [
    "Imagen"
   ]
  },
  {
   "cell_type": "markdown",
   "metadata": {},
   "source": [
    "Se ha argumentado que la solución preserva propiedades de la imagen ya que el modelo multicapa al no tener un orden, esto debido al planteamiento de que los pixeles de la imagen tienen una invarianza con respecto a los atributos espaciales, por ejemplo pixeles en cierta localización mantienen su importancia al conservar esta la propiedad invarianza.\n",
    "\n",
    "Con esto podemos proponer el siguiente cuestionamiento¿como incorporar que pixeles tienen alta correlación? ya que píxeles cercanos entre si tienen una correlación más fuerte que los que tienen una distancia mayor.\n",
    "\n",
    "Para esto definimos como modelo convulacional como **CNN**\n",
    "\n",
    "Los modelos CNN tiene las siguientes aplicaciones\n",
    "* Visión por computadora\n",
    " - reconocimiento de y detección de objetos\n",
    " - Segmentación Semántica\n",
    "* Procesamiento del lenguaje natural\n",
    "* Series de tiempo (Modelos financieros)\n",
    "* Grafos\n"
   ]
  },
  {
   "cell_type": "markdown",
   "metadata": {},
   "source": [
    "Para poder empezar a ejemplificar un los beneficios de modelo **CNN** esto definimos el siguiente caso para un modelo milticapa visto anteriormente:\n",
    "* Clasificar si una imagen es perro o gato tomando una imagen de 12Mp"
   ]
  },
  {
   "cell_type": "markdown",
   "metadata": {},
   "source": [
    "Por lo que tenemos $12\\cdot10^6$ de mediciones para cada imagen, con esto partimos que la capa de entrada tendría doce millones de parámetros considerando solo una escala de grises.\n",
    "Si el modelo que estamos consideramos, solo tiene una capa intermedia de $10^6$ unidades se tendrían  $12\\cdot10^9$ de parámetros, nuevamente solo en la escala de grises. Considerando de igual manera para este modelo una imagen a colores tendríamos $36\\cdot10^9$ de parámetros. "
   ]
  },
  {
   "cell_type": "markdown",
   "metadata": {},
   "source": [
    "En terminos de memoria de la computadora con este modelo sin entrenar tendría un voluen aproximado de 288Gb"
   ]
  },
  {
   "cell_type": "markdown",
   "metadata": {},
   "source": [
    "Tomando el cuenta el universo de posibles resultado se tienen $471\\cdot10^6$ de perros y $373\\cdot10^6$ gatos, por lo que el total nos daría $0.844\\cdot10^9$ posibles resultados. En conclusiones preliminares en un modelo multicapa necesitaria una gran cantidad de espacio de memoria y de variables iniciales junto que con de igual manera  estaría muy por debajo la información disponible para su ajuste."
   ]
  },
  {
   "cell_type": "markdown",
   "metadata": {},
   "source": [
    "Es por esto que los modelos **CNN** aligeran la carga de memoria y variables para poder realizar un algoritmo de clasificación del estilo del modelo multicapa"
   ]
  },
  {
   "cell_type": "markdown",
   "metadata": {},
   "source": [
    "Tomando en cuenta el planteamiento anterior de clasificación\n",
    "En el modelo **CNN** tiene las siguientes características\n",
    "\n",
    " * En un bloque de pixeles estos son **invariantes ante translaciones**\n",
    "\n",
    " * En los bloques importantes estos tienen un **principio de localidad**"
   ]
  },
  {
   "cell_type": "markdown",
   "metadata": {},
   "source": [
    "# 1) Restricciones de soble modelos multicapa"
   ]
  },
  {
   "cell_type": "markdown",
   "metadata": {},
   "source": [
    "Construyendo a partir de un modelo multicapa tenemos una imagen $ \\left[ X \\right] $"
   ]
  },
  {
   "cell_type": "markdown",
   "metadata": {},
   "source": [
    "$ \\left[ X \\right] \\rightarrow \\left[ H \\right] \\ \\ \\ \\ \\ dim(X)=dim(H) $ "
   ]
  },
  {
   "cell_type": "markdown",
   "metadata": {},
   "source": [
    "Donde $H$ es la representación de la imagen en la capa oculta y se preservan las dimensiones en el número de pixeles"
   ]
  },
  {
   "cell_type": "markdown",
   "metadata": {},
   "source": [
    "Denotamos como $x_{ij}$ como el pixel $(i,j)$ y la relación entre el pixel en la capa oculta está dado por una relación lineal entre la una matriz de pesos asociada con cada salida ponderando por los pesos denotado por la siguiente función:"
   ]
  },
  {
   "cell_type": "markdown",
   "metadata": {},
   "source": [
    "$H_{ij}=\\sum_{k,l} W_{i,jkl} X_{kl}+u_{i,i}$"
   ]
  },
  {
   "cell_type": "markdown",
   "metadata": {},
   "source": [
    "con un cambio de variables:"
   ]
  },
  {
   "cell_type": "markdown",
   "metadata": {},
   "source": [
    "$=\\sum_{a,b} V_{i,j,a,b} X_{i+a,j+b}+u_{i,i}$\n"
   ]
  },
  {
   "cell_type": "markdown",
   "metadata": {},
   "source": [
    "$k=i+a \\ \\ \\ l=j+b \\ \\ \\  \\therefore W_{ij,i+a,j+b}=V_{ijab}$"
   ]
  },
  {
   "cell_type": "markdown",
   "metadata": {},
   "source": [
    "### 1.1) Invarianza ante translaciones"
   ]
  },
  {
   "cell_type": "markdown",
   "metadata": {},
   "source": [
    "$H_{ij}=\\sum_{a,b} V_{a,b} X_{i+a,j+b}+U$"
   ]
  },
  {
   "cell_type": "markdown",
   "metadata": {},
   "source": [
    "Esto quiere decir que la transformación siempre está utilizando la misma combinación lineal "
   ]
  },
  {
   "cell_type": "markdown",
   "metadata": {},
   "source": [
    "### 1.2) Localidad de transformación"
   ]
  },
  {
   "cell_type": "markdown",
   "metadata": {},
   "source": [
    "Esto quiere decir que para medir el efecto o la imagen en un pixel dado no se ba a realizar sobre todo el conjunto de pixeles, principalmente  se va a efectuar en cierta zona, definimos la incidencia acotando los indice a y b"
   ]
  },
  {
   "cell_type": "markdown",
   "metadata": {},
   "source": [
    "$\\forall \\ \\ \\ |a| > \\Delta, \\ \\ \\ |b| > \\Delta \\implies V_{a,b}=0$ donde $V=$ filtro de convulución o kernel"
   ]
  },
  {
   "cell_type": "markdown",
   "metadata": {},
   "source": [
    "donde $V$ filtro o kernel"
   ]
  },
  {
   "cell_type": "markdown",
   "metadata": {},
   "source": [
    "$\\therefore H_{ij}=\\sum_{a,b\\in (-\\Delta,\\Delta)} V_{a,b} X_{i+a,j+b}+U$"
   ]
  },
  {
   "cell_type": "markdown",
   "metadata": {},
   "source": [
    "### 1.3) Convoluciones"
   ]
  },
  {
   "cell_type": "markdown",
   "metadata": {},
   "source": [
    "Denotamos la convolución entre dos funciones $f$ y $g$ evaluada en $x$ como:"
   ]
  },
  {
   "cell_type": "markdown",
   "metadata": {},
   "source": [
    "$f * g=\\int f(x)g(x-z)dz$"
   ]
  },
  {
   "cell_type": "markdown",
   "metadata": {},
   "source": [
    "El filtro $f(x)$ solo stá definida en un conjunto de tamaño $\\Delta$"
   ]
  },
  {
   "cell_type": "markdown",
   "metadata": {},
   "source": [
    "### 1.4) Colores $\\rightarrow$ Canales"
   ]
  },
  {
   "cell_type": "markdown",
   "metadata": {},
   "source": [
    "En caso de necesitar más colores o canales podemos definir la siguiente función, donde la transformación va a ser similar"
   ]
  },
  {
   "cell_type": "markdown",
   "metadata": {},
   "source": [
    "$H_{i,j,d}=\\sum_{a,b\\in (-\\Delta,\\Delta)} \\sum_{c}V_{a,b,c,d} X_{i+a,j+b,c}+U$ "
   ]
  },
  {
   "cell_type": "markdown",
   "metadata": {},
   "source": [
    "Estos operadores se utilizan en el procesamiento de imagen, sin embargo se pueden usar en una dimensión por ejemplo texto, voz o series de tiempo viendose como $H_{i}=\\sum_{a}V_{a} X_{i+a}+U$ "
   ]
  },
  {
   "cell_type": "markdown",
   "metadata": {},
   "source": [
    "# 2) Colores $\\rightarrow$ Canales"
   ]
  },
  {
   "cell_type": "markdown",
   "metadata": {},
   "source": [
    "Para ejemplificar esto se utilizó el siguiente ejemplo en el repositorio de Github\n",
    "https://github.com/ITAM-DS/deep-learning/blob/master/codigo/07-imagenes-convoluciones.ipynb"
   ]
  }
 ],
 "metadata": {
  "kernelspec": {
   "display_name": "Python 3",
   "language": "python",
   "name": "python3"
  },
  "language_info": {
   "codemirror_mode": {
    "name": "ipython",
    "version": 3
   },
   "file_extension": ".py",
   "mimetype": "text/x-python",
   "name": "python",
   "nbconvert_exporter": "python",
   "pygments_lexer": "ipython3",
   "version": "3.8.5"
  }
 },
 "nbformat": 4,
 "nbformat_minor": 5
}
