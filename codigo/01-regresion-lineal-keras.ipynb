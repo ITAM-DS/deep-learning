{
  "nbformat": 4,
  "nbformat_minor": 0,
  "metadata": {
    "kernelspec": {
      "display_name": "Python 3",
      "language": "python",
      "name": "python3"
    },
    "language_info": {
      "codemirror_mode": {
        "name": "ipython",
        "version": 3
      },
      "file_extension": ".py",
      "mimetype": "text/x-python",
      "name": "python",
      "nbconvert_exporter": "python",
      "pygments_lexer": "ipython3",
      "version": "3.8.5"
    },
    "colab": {
      "name": "01-regresion-lineal-keras.ipynb",
      "provenance": []
    }
  },
  "cells": [
    {
      "cell_type": "markdown",
      "metadata": {
        "id": "f-s0C1_dKaC2"
      },
      "source": [
        "# Regresion lineal\n",
        "\n",
        "Vamos a implementar el modelo de regresion lineal que hemos visto en clase. Ahora utilizando las funciones de keras."
      ]
    },
    {
      "cell_type": "code",
      "metadata": {
        "id": "xGLJbTTbKaC8"
      },
      "source": [
        "import tensorflow as tf\n",
        "import matplotlib.pyplot as plt\n",
        "import random\n",
        "%matplotlib inline"
      ],
      "execution_count": 1,
      "outputs": []
    },
    {
      "cell_type": "markdown",
      "metadata": {
        "id": "uaUNIXgQKaC9"
      },
      "source": [
        "Definamos las semillas de los generadores de numeros aleatorios para que nuestros resultados sean reproducibles. "
      ]
    },
    {
      "cell_type": "code",
      "metadata": {
        "id": "WDLG0ev_KaC9"
      },
      "source": [
        "tf.random.set_seed(108727)\n",
        "random.seed(108727)"
      ],
      "execution_count": 2,
      "outputs": []
    },
    {
      "cell_type": "markdown",
      "metadata": {
        "id": "9yy-MwuwKaC-"
      },
      "source": [
        "## Generando datos\n",
        "\n",
        "Generamos un conjunto de datos sintético. Para esto simularemos\n",
        "1000 datos observamos, cada uno con 2 atributos generados de una \n",
        "normal estandar. Por lo tanto nuestro conjunto de datos será \n",
        "$\\mathbf{X}\\in \\mathbb{R}^{1000 \\times 2}.$\n",
        "\n",
        "Los valores que usaremos para los pesos serán \n",
        "$\\mathbf{w}^\\star = [2, -3.4]^\\top$ y $b^\\star = 4.2$,\n",
        "y la variable de respuesta observada será registrada de\n",
        "acuerdo al modelo \n",
        "\n",
        "$$\\mathbf{y}= \\mathbf{X} \\mathbf{w}^\\star + b^\\star + \\mathbf{\\epsilon}.$$"
      ]
    },
    {
      "cell_type": "code",
      "metadata": {
        "id": "SDRfyX_hKaC_"
      },
      "source": [
        "def synthetic_data(w, b, num_examples): \n",
        "    \"\"\"Generate y = Xw + b + noise.\"\"\"\n",
        "    X = tf.zeros((num_examples, w.shape[0]))\n",
        "    X += tf.random.normal(shape=X.shape)\n",
        "    y = tf.matmul(X, tf.reshape(w, (-1, 1))) + b\n",
        "    y += tf.random.normal(shape=y.shape, stddev=0.01)\n",
        "    y = tf.reshape(y, (-1, 1))\n",
        "    return X, y\n",
        "\n",
        "true_w = tf.constant([2, -3.4])\n",
        "true_b = 4.2\n",
        "features, labels = synthetic_data(true_w, true_b, 1000)"
      ],
      "execution_count": 3,
      "outputs": []
    },
    {
      "cell_type": "code",
      "metadata": {
        "id": "4-Z2KkqYKaC_",
        "outputId": "2dd0a2bc-955a-4781-97cf-98193655eee8",
        "colab": {
          "base_uri": "https://localhost:8080/"
        }
      },
      "source": [
        "print('features:', features[0].numpy(),'\\noutput  :', labels[0].numpy())"
      ],
      "execution_count": 4,
      "outputs": [
        {
          "output_type": "stream",
          "text": [
            "features: [-1.4190247  -0.40520382] \n",
            "output  : [2.7367127]\n"
          ],
          "name": "stdout"
        }
      ]
    },
    {
      "cell_type": "markdown",
      "metadata": {
        "id": "RNmTD9q-KaDB"
      },
      "source": [
        "Podemos usar gráficos de dispersión para validar que nuestros datos satisfacen el supuesto de correlación lineal. "
      ]
    },
    {
      "cell_type": "code",
      "metadata": {
        "id": "i_qzjE-bKaDC",
        "outputId": "95cc97c7-7f4d-45a1-dc5d-a5bcda5e987e",
        "colab": {
          "base_uri": "https://localhost:8080/",
          "height": 338
        }
      },
      "source": [
        "fig, axes = plt.subplots(1, 2, figsize = [10, 5])\n",
        "axes[0].scatter(features[:, 0].numpy(), labels.numpy(), 3);\n",
        "axes[0].set_xlabel(r\"Atributo: $x_1$\"); axes[0].set_ylabel(r\"Salida: $y$\");\n",
        "\n",
        "axes[1].scatter(features[:, 1].numpy(), labels.numpy(), 3);\n",
        "axes[1].set_xlabel(r\"Atributo: $x_2$\"); axes[0].set_ylabel(r\"Salida: $y$\");\n"
      ],
      "execution_count": 5,
      "outputs": [
        {
          "output_type": "display_data",
          "data": {
            "image/png": "[encoded data removed]",
            "text/plain": [
              "<Figure size 720x360 with 2 Axes>"
            ]
          },
          "metadata": {
            "tags": [],
            "needs_background": "light"
          }
        }
      ]
    },
    {
      "cell_type": "markdown",
      "metadata": {
        "id": "MjeRVX2MKaDC"
      },
      "source": [
        "## Preparando el conjunto de datos\n",
        "\n",
        "Resolveremos el problema de regresión utilizando el método iterativo que vimos. \n",
        "Para esto necesitamos una función que sea capaz de generar los bloques, recibiendo como \n",
        "entrada el tamaño de los bloques. Ahora utilizaremos un iterador que ya viene \n",
        "en las librerias de `tensorflow`."
      ]
    },
    {
      "cell_type": "code",
      "metadata": {
        "id": "xjhRPEGnKaDD"
      },
      "source": [
        "def load_array(data_arrays, batch_size, is_train=True):  #@save\n",
        "    \"\"\"Construct a TensorFlow data iterator.\"\"\"\n",
        "    dataset = tf.data.Dataset.from_tensor_slices(data_arrays)\n",
        "    if is_train:\n",
        "        dataset = dataset.shuffle(buffer_size=1000)\n",
        "    dataset = dataset.batch(batch_size)\n",
        "    return dataset"
      ],
      "execution_count": 6,
      "outputs": []
    },
    {
      "cell_type": "code",
      "metadata": {
        "id": "UxE20IqEKaDE"
      },
      "source": [
        "batch_size = 10\n",
        "data_iter = load_array((features, labels), batch_size)"
      ],
      "execution_count": 7,
      "outputs": []
    },
    {
      "cell_type": "code",
      "metadata": {
        "id": "vGOGr1hDKaDF",
        "outputId": "2f351b30-5c8e-4708-9c81-dd4b7aa7ab0f",
        "colab": {
          "base_uri": "https://localhost:8080/"
        }
      },
      "source": [
        "next(iter(data_iter))"
      ],
      "execution_count": 8,
      "outputs": [
        {
          "output_type": "execute_result",
          "data": {
            "text/plain": [
              "(<tf.Tensor: shape=(10, 2), dtype=float32, numpy=\n",
              " array([[-1.855617  ,  1.4968314 ],\n",
              "        [-0.52445483, -2.0086243 ],\n",
              "        [-0.61631066,  0.3504027 ],\n",
              "        [ 0.22675593,  0.23592383],\n",
              "        [-1.772659  , -0.9567067 ],\n",
              "        [ 0.9214221 , -0.4683857 ],\n",
              "        [ 1.3023026 ,  0.5549465 ],\n",
              "        [-0.08104537, -1.1965384 ],\n",
              "        [-1.1124128 , -1.3868176 ],\n",
              "        [-1.5423255 , -0.50628483]], dtype=float32)>,\n",
              " <tf.Tensor: shape=(10, 1), dtype=float32, numpy=\n",
              " array([[-4.589067 ],\n",
              "        [ 9.979043 ],\n",
              "        [ 1.7579309],\n",
              "        [ 3.8393154],\n",
              "        [ 3.9052534],\n",
              "        [ 7.6409745],\n",
              "        [ 4.9171743],\n",
              "        [ 8.116236 ],\n",
              "        [ 6.6730847],\n",
              "        [ 2.8453887]], dtype=float32)>)"
            ]
          },
          "metadata": {
            "tags": []
          },
          "execution_count": 8
        }
      ]
    },
    {
      "cell_type": "markdown",
      "metadata": {
        "id": "EEk3WmiWKaDF"
      },
      "source": [
        "### Inicializamos los valores de los parámetros\n",
        "\n",
        "El módulo `initializers` tiene ya codificados varios modos de inicializar parámetros. Por el momento sólo tenemos que \n",
        "definir el modo en que seran asignados los valores iniciales. Keras se encarga de establecer las dimensiones adecuadas una vez que se ejecuten los comandos necesarios. "
      ]
    },
    {
      "cell_type": "code",
      "metadata": {
        "id": "hk0873Z9KaDF"
      },
      "source": [
        "initializer = tf.initializers.RandomNormal(stddev=0.01)"
      ],
      "execution_count": 9,
      "outputs": []
    },
    {
      "cell_type": "markdown",
      "metadata": {
        "id": "7IqofavAKaDF"
      },
      "source": [
        "### Definimos el modelo\n",
        "\n",
        "Como vimos en el diagrama, un modelo de regresion lineal lo podemos interpretar como una red \n",
        "neuronal de una capa con conexiones densas. Ademas, Keras se encarga de definir las dimensiones adecuadas."
      ]
    },
    {
      "cell_type": "code",
      "metadata": {
        "id": "-ZA7Ibq3KaDG"
      },
      "source": [
        "# `keras` is the high-level API for TensorFlow\n",
        "net = tf.keras.Sequential()\n",
        "net.add(tf.keras.layers.Dense(1, kernel_initializer=initializer))"
      ],
      "execution_count": 10,
      "outputs": []
    },
    {
      "cell_type": "markdown",
      "metadata": {
        "id": "j74AhQnEKaDG"
      },
      "source": [
        "### Definimos la función de pérdida"
      ]
    },
    {
      "cell_type": "code",
      "metadata": {
        "id": "fqcqmuiqKaDH"
      },
      "source": [
        "loss = tf.keras.losses.MeanSquaredError()"
      ],
      "execution_count": 11,
      "outputs": []
    },
    {
      "cell_type": "markdown",
      "metadata": {
        "id": "GVpL5DOlKaDH"
      },
      "source": [
        "### Definimos el algoritmo de optimización"
      ]
    },
    {
      "cell_type": "code",
      "metadata": {
        "id": "e8kmTsNZKaDH"
      },
      "source": [
        "trainer = tf.keras.optimizers.SGD(learning_rate=0.03)"
      ],
      "execution_count": 12,
      "outputs": []
    },
    {
      "cell_type": "markdown",
      "metadata": {
        "id": "uvzIs3gtKaDH"
      },
      "source": [
        "### Entrenamos"
      ]
    },
    {
      "cell_type": "code",
      "metadata": {
        "id": "rdRSL1HaKaDH",
        "outputId": "4dd46fd0-5c1e-4458-b890-affe6820e181",
        "colab": {
          "base_uri": "https://localhost:8080/"
        }
      },
      "source": [
        "num_epochs = 5\n",
        "\n",
        "for epoch in range(num_epochs):\n",
        "    for X, y in data_iter:\n",
        "        with tf.GradientTape() as tape:\n",
        "            l = loss(net(X, training=True), y)\n",
        "        grads = tape.gradient(l, net.trainable_variables)\n",
        "        trainer.apply_gradients(zip(grads, net.trainable_variables))\n",
        "    l = loss(net(features), labels)\n",
        "    print(f'epoch {epoch + 1}, loss {l:f}')"
      ],
      "execution_count": 13,
      "outputs": [
        {
          "output_type": "stream",
          "text": [
            "epoch 1, loss 0.000198\n",
            "epoch 2, loss 0.000095\n",
            "epoch 3, loss 0.000095\n",
            "epoch 4, loss 0.000095\n",
            "epoch 5, loss 0.000094\n"
          ],
          "name": "stdout"
        }
      ]
    },
    {
      "cell_type": "markdown",
      "metadata": {
        "id": "omnFxIc3KaDI"
      },
      "source": [
        "Nuestros error en los estimadores son:"
      ]
    },
    {
      "cell_type": "code",
      "metadata": {
        "id": "gQ9-ENNhKaDI",
        "outputId": "ad3d9d74-95c4-4618-c8c2-546297623032",
        "colab": {
          "base_uri": "https://localhost:8080/"
        }
      },
      "source": [
        "w = net.get_weights()[0]\n",
        "b = net.get_weights()[1]\n",
        "\n",
        "print(f'Error en w: {true_w - tf.reshape(w, true_w.shape)}')\n",
        "print(f'Error en b: {true_b - b}')"
      ],
      "execution_count": 14,
      "outputs": [
        {
          "output_type": "stream",
          "text": [
            "Error en w: [ 0.00048459 -0.00013638]\n",
            "Error en b: [0.00015306]\n"
          ],
          "name": "stdout"
        }
      ]
    },
    {
      "cell_type": "markdown",
      "metadata": {
        "id": "j2d2yqeSKaDJ"
      },
      "source": [
        "## Resumen\n",
        "\n",
        "* Usar las herramientas de TensorFlow nos permite implementar modelos de forma concisa. \n",
        "* El modulo `data` de Tenorflow brinda herramientas de procesamiento de datos, `keras` define una gran variedad de modelos y herramientas para aplicaciones.\n",
        "* El modulo `initializers` permite inicializar parametros para un modelo que usa Tensorflow.\n",
        "* La dimensionalidad y almacenamiento de los parametros se hacen detras de camara con Keras. Sin embargo, ten cuidado de no tratar de accesar a dichos parametros antes de que hayan sido inicializados por Keras. \n",
        "\n",
        "## Ejercicios \n",
        "\n",
        "1. Revisa la documentación de Tensorflow para ver que funciones de pérdida y métodos de inicializacion existen. Repite el ajuste del modelo utilizando la pérdida de Huber. \n"
      ]
    }
  ]
}