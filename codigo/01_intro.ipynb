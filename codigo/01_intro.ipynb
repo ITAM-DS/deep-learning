{
  "nbformat": 4,
  "nbformat_minor": 0,
  "metadata": {
    "colab": {
      "name": "01-intro.ipynb",
      "provenance": [],
      "authorship_tag": "ABX9TyNWPB062tfFEfE7sUcVmR0Y",
      "include_colab_link": true
    },
    "kernelspec": {
      "name": "python3",
      "display_name": "Python 3"
    }
  },
  "cells": [
    {
      "cell_type": "markdown",
      "metadata": {
        "id": "view-in-github",
        "colab_type": "text"
      },
      "source": [
        "<a href=\"https://colab.research.google.com/github/ITAM-DS/deep-learning/blob/colab-notebooks/codigo/01_intro.ipynb\" target=\"_parent\"><img src=\"https://colab.research.google.com/assets/colab-badge.svg\" alt=\"Open In Colab\"/></a>"
      ]
    },
    {
      "cell_type": "markdown",
      "metadata": {
        "id": "kRR-PSJJhGY4"
      },
      "source": [
        "# Manipulacion de datos\n",
        "\n",
        "En general utilizamos arreglos para almacenar nuestros datos. Una instancia suficientemente general son los llamdos **tensores**. Estos representan las unidades básicas de almacenamiento en aplicaciones de Aprendizaje Profundo (DL). \n",
        "\n",
        "Si ya has estado familiarizada con _matrices_ entonces ya has trabajado con tensores de 2 dimensiones. Los tensores son generalizaciones de tensores a mas dimensiones.\n",
        "\n",
        "## Escalares (tensores de dimension 0) "
      ]
    },
    {
      "cell_type": "code",
      "metadata": {
        "id": "OGRLEAALMrHK",
        "colab": {
          "base_uri": "https://localhost:8080/"
        },
        "outputId": "a8c75539-7143-44b6-86c5-ed2603928095"
      },
      "source": [
        "import numpy as np\n",
        "x = np.array(12)\n",
        "x"
      ],
      "execution_count": 4,
      "outputs": [
        {
          "output_type": "execute_result",
          "data": {
            "text/plain": [
              "array(12)"
            ]
          },
          "metadata": {
            "tags": []
          },
          "execution_count": 4
        }
      ]
    },
    {
      "cell_type": "code",
      "metadata": {
        "colab": {
          "base_uri": "https://localhost:8080/"
        },
        "id": "91WzY3bahD_E",
        "outputId": "172e2b76-7405-4c86-ae5b-6d92b3215434"
      },
      "source": [
        "x.ndim"
      ],
      "execution_count": 5,
      "outputs": [
        {
          "output_type": "execute_result",
          "data": {
            "text/plain": [
              "0"
            ]
          },
          "metadata": {
            "tags": []
          },
          "execution_count": 5
        }
      ]
    },
    {
      "cell_type": "markdown",
      "metadata": {
        "id": "c8Imb_3_jT55"
      },
      "source": [
        "## Vectores (tensores de dimension 1)\n"
      ]
    },
    {
      "cell_type": "code",
      "metadata": {
        "colab": {
          "base_uri": "https://localhost:8080/"
        },
        "id": "7AuG9zhyjSpC",
        "outputId": "da19bfe9-2fa8-4246-c789-ff0880e70583"
      },
      "source": [
        "x = np.array([1, 4, 5 ,9])\n",
        "x"
      ],
      "execution_count": 6,
      "outputs": [
        {
          "output_type": "execute_result",
          "data": {
            "text/plain": [
              "array([1, 4, 5, 9])"
            ]
          },
          "metadata": {
            "tags": []
          },
          "execution_count": 6
        }
      ]
    },
    {
      "cell_type": "code",
      "metadata": {
        "colab": {
          "base_uri": "https://localhost:8080/"
        },
        "id": "F9Gwh9Hejn90",
        "outputId": "54b9e4ee-050f-4f23-fbd9-9c5104ef15bc"
      },
      "source": [
        "x.ndim"
      ],
      "execution_count": 7,
      "outputs": [
        {
          "output_type": "execute_result",
          "data": {
            "text/plain": [
              "1"
            ]
          },
          "metadata": {
            "tags": []
          },
          "execution_count": 7
        }
      ]
    },
    {
      "cell_type": "markdown",
      "metadata": {
        "id": "qdVGQZtpjq8A"
      },
      "source": [
        "## Matrices (tensores de dimension 2)\n"
      ]
    },
    {
      "cell_type": "code",
      "metadata": {
        "colab": {
          "base_uri": "https://localhost:8080/"
        },
        "id": "70jsKMFKju3X",
        "outputId": "5b69647f-af58-40f6-8884-4a7d2def776c"
      },
      "source": [
        "x = np.array([[5, 78, 2, 34, 0],\n",
        "              [6, 79, 3, 35, 1],\n",
        "              [7, 80, 4, 36, 2]])\n",
        "x"
      ],
      "execution_count": 8,
      "outputs": [
        {
          "output_type": "execute_result",
          "data": {
            "text/plain": [
              "array([[ 5, 78,  2, 34,  0],\n",
              "       [ 6, 79,  3, 35,  1],\n",
              "       [ 7, 80,  4, 36,  2]])"
            ]
          },
          "metadata": {
            "tags": []
          },
          "execution_count": 8
        }
      ]
    },
    {
      "cell_type": "code",
      "metadata": {
        "colab": {
          "base_uri": "https://localhost:8080/"
        },
        "id": "7PcI4fW7j1w7",
        "outputId": "cb19eee6-26ae-4014-b1d1-96e58ab6a663"
      },
      "source": [
        "x.ndim"
      ],
      "execution_count": 9,
      "outputs": [
        {
          "output_type": "execute_result",
          "data": {
            "text/plain": [
              "2"
            ]
          },
          "metadata": {
            "tags": []
          },
          "execution_count": 9
        }
      ]
    },
    {
      "cell_type": "markdown",
      "metadata": {
        "id": "VVmOVgPSj6e6"
      },
      "source": [
        "## Tensores de dimension 3"
      ]
    },
    {
      "cell_type": "code",
      "metadata": {
        "colab": {
          "base_uri": "https://localhost:8080/"
        },
        "id": "TRsY3LN-j-I3",
        "outputId": "18a81071-b9d4-4c90-f299-6719cf43578c"
      },
      "source": [
        "x = np.array([[[5, 78, 2, 34, 0],\n",
        "                   [6, 79, 3, 35, 1],\n",
        "                   [7, 80, 4, 36, 2]],\n",
        "                  [[5, 78, 2, 34, 0],\n",
        "                   [6, 79, 3, 35, 1],\n",
        "                   [7, 80, 4, 36, 2]],\n",
        "                  [[5, 78, 2, 34, 0],\n",
        "                   [6, 79, 3, 35, 1],\n",
        "                   [7, 80, 4, 36, 2]]])\n",
        "x"
      ],
      "execution_count": 10,
      "outputs": [
        {
          "output_type": "execute_result",
          "data": {
            "text/plain": [
              "array([[[ 5, 78,  2, 34,  0],\n",
              "        [ 6, 79,  3, 35,  1],\n",
              "        [ 7, 80,  4, 36,  2]],\n",
              "\n",
              "       [[ 5, 78,  2, 34,  0],\n",
              "        [ 6, 79,  3, 35,  1],\n",
              "        [ 7, 80,  4, 36,  2]],\n",
              "\n",
              "       [[ 5, 78,  2, 34,  0],\n",
              "        [ 6, 79,  3, 35,  1],\n",
              "        [ 7, 80,  4, 36,  2]]])"
            ]
          },
          "metadata": {
            "tags": []
          },
          "execution_count": 10
        }
      ]
    },
    {
      "cell_type": "code",
      "metadata": {
        "colab": {
          "base_uri": "https://localhost:8080/"
        },
        "id": "MO62ETLEj-_C",
        "outputId": "058640cb-caf8-4923-d023-7d44d41d5b95"
      },
      "source": [
        "x.ndim"
      ],
      "execution_count": 11,
      "outputs": [
        {
          "output_type": "execute_result",
          "data": {
            "text/plain": [
              "3"
            ]
          },
          "metadata": {
            "tags": []
          },
          "execution_count": 11
        }
      ]
    },
    {
      "cell_type": "markdown",
      "metadata": {
        "id": "0ScOJwcIkotX"
      },
      "source": [
        "## Atributos clave\n",
        "\n",
        "Un tensor tiene tres atributos clave: \n",
        "\n",
        "- **Rango** El número de ejes (_axis_). Lo podemos verificar con el atributo `ndim` en arreglos de `Numpy`.\n",
        "- **Forma** (_Shape_) Es una tupla de enteros que describe cuantas dimensiones tiene el tensor en cada eje. La matriz anterior tiene forma `(3, 5)`, el tensor de 3 dimensiones tiene forma `(3, 3, 5)`. \n",
        "- **Tipo de datos** (_data type_) Es el tipo de datos contenido en un tensor (lo consultamos con la propiedad `dtype`). Los mas comunes son: \n",
        "`float32`, `uint8`, `float64`. \n",
        "\n",
        "Podemos explorar estas propiedades en un conjunto de datos clasico en DL. "
      ]
    },
    {
      "cell_type": "code",
      "metadata": {
        "id": "VrO-2d0AmjpN"
      },
      "source": [
        "from tensorflow.keras.datasets import mnist"
      ],
      "execution_count": 12,
      "outputs": []
    },
    {
      "cell_type": "code",
      "metadata": {
        "colab": {
          "base_uri": "https://localhost:8080/"
        },
        "id": "KaFgTspbm0BO",
        "outputId": "e0825691-1888-4e6c-e0ed-04c475d7ff5f"
      },
      "source": [
        "(train_images, train_labels), (test_images, test_labels) = mnist.load_data()"
      ],
      "execution_count": 13,
      "outputs": [
        {
          "output_type": "stream",
          "text": [
            "Downloading data from https://storage.googleapis.com/tensorflow/tf-keras-datasets/mnist.npz\n",
            "11493376/11490434 [==============================] - 0s 0us/step\n"
          ],
          "name": "stdout"
        }
      ]
    },
    {
      "cell_type": "code",
      "metadata": {
        "colab": {
          "base_uri": "https://localhost:8080/"
        },
        "id": "6qGGSCX4moo9",
        "outputId": "d5870c85-ae55-432f-8770-7d73ac05c77c"
      },
      "source": [
        "print('Rank      :   %i'%train_images.ndim)\n",
        "print('Shape     : (%i, %i, %i)'%train_images.shape)\n",
        "print('Data type : %s'%train_images.dtype)"
      ],
      "execution_count": 14,
      "outputs": [
        {
          "output_type": "stream",
          "text": [
            "Rank      :   3\n",
            "Shape     : (60000, 28, 28)\n",
            "Data type : uint8\n"
          ],
          "name": "stdout"
        }
      ]
    },
    {
      "cell_type": "markdown",
      "metadata": {
        "id": "YQ6ppjNZuerK"
      },
      "source": [
        "### En la practica"
      ]
    },
    {
      "cell_type": "code",
      "metadata": {
        "id": "C2qGx99IoNja",
        "outputId": "180c5cc6-bea9-4c36-961d-61d421de2761",
        "colab": {
          "base_uri": "https://localhost:8080/",
          "height": 282
        }
      },
      "source": [
        "digit = train_images[4]\n",
        "\n",
        "import matplotlib.pyplot as plt\n",
        "plt.imshow(digit, cmap = plt.cm.binary)"
      ],
      "execution_count": 15,
      "outputs": [
        {
          "output_type": "execute_result",
          "data": {
            "text/plain": [
              "<matplotlib.image.AxesImage at 0x7f786d654a90>"
            ]
          },
          "metadata": {
            "tags": []
          },
          "execution_count": 15
        },
        {
          "output_type": "display_data",
          "data": {
            "image/png": "[encoded data removed]",
            "text/plain": [
              "<Figure size 432x288 with 1 Axes>"
            ]
          },
          "metadata": {
            "tags": [],
            "needs_background": "light"
          }
        }
      ]
    },
    {
      "cell_type": "code",
      "metadata": {
        "id": "wKu526n5umV6",
        "outputId": "67bc53ac-5953-4779-c96b-97f417de0489",
        "colab": {
          "base_uri": "https://localhost:8080/"
        }
      },
      "source": [
        "print('Rank      : %i'%digit.ndim)\n",
        "print('Shape     : (%i, %i)'%digit.shape)\n",
        "print('Data type : %s'%digit.dtype)"
      ],
      "execution_count": 16,
      "outputs": [
        {
          "output_type": "stream",
          "text": [
            "Rank      : 2\n",
            "Shape     : (28, 28)\n",
            "Data type : uint8\n"
          ],
          "name": "stdout"
        }
      ]
    },
    {
      "cell_type": "markdown",
      "metadata": {
        "id": "IswlamluEPqp"
      },
      "source": [
        "## Operaciones de corte (_slicing_)"
      ]
    },
    {
      "cell_type": "code",
      "metadata": {
        "id": "VMKLdaLdEOaU",
        "outputId": "1dedaa5e-69dc-4c4f-dcaa-9a89c569e20c",
        "colab": {
          "base_uri": "https://localhost:8080/"
        }
      },
      "source": [
        "my_slice_1 = train_images[0:100]\n",
        "print(my_slice_1.shape)"
      ],
      "execution_count": 18,
      "outputs": [
        {
          "output_type": "stream",
          "text": [
            "(100, 28, 28)\n"
          ],
          "name": "stdout"
        }
      ]
    },
    {
      "cell_type": "code",
      "metadata": {
        "id": "FK2J3dsuElm5",
        "outputId": "91e31164-956c-4fd2-fd4d-d9d0d58557f7",
        "colab": {
          "base_uri": "https://localhost:8080/"
        }
      },
      "source": [
        "my_slice_2 = train_images[0:100, :, :]\n",
        "print(my_slice_2.shape)"
      ],
      "execution_count": 20,
      "outputs": [
        {
          "output_type": "stream",
          "text": [
            "(100, 28, 28)\n"
          ],
          "name": "stdout"
        }
      ]
    },
    {
      "cell_type": "code",
      "metadata": {
        "id": "4wIN3BNAEuUL",
        "outputId": "4b9bd205-6105-4054-b2de-b7d860335d7b",
        "colab": {
          "base_uri": "https://localhost:8080/"
        }
      },
      "source": [
        "my_slice_3 = train_images[0:100, 0:28, 0:28]\n",
        "print(my_slice_3.shape)"
      ],
      "execution_count": 22,
      "outputs": [
        {
          "output_type": "stream",
          "text": [
            "(100, 28, 28)\n"
          ],
          "name": "stdout"
        }
      ]
    },
    {
      "cell_type": "code",
      "metadata": {
        "id": "joLLAVWcEy8D",
        "outputId": "3d3fa2e2-5e17-4b6b-f17c-27d7d5965745",
        "colab": {
          "base_uri": "https://localhost:8080/"
        }
      },
      "source": [
        "print((my_slice_1 == my_slice_2).all())\n",
        "print((my_slice_1 == my_slice_3).all())\n",
        "print((my_slice_3 == my_slice_2).all())"
      ],
      "execution_count": 23,
      "outputs": [
        {
          "output_type": "stream",
          "text": [
            "True\n",
            "True\n",
            "True\n"
          ],
          "name": "stdout"
        }
      ]
    },
    {
      "cell_type": "markdown",
      "metadata": {
        "id": "ZhMSDDOyFvEO"
      },
      "source": [
        "## Bloques de datos"
      ]
    },
    {
      "cell_type": "code",
      "metadata": {
        "id": "z7Q_dJbAFtGR",
        "outputId": "21b132ea-6257-4768-9298-ba76e933a447",
        "colab": {
          "base_uri": "https://localhost:8080/"
        }
      },
      "source": [
        "batch = train_images[:128]\n",
        "print(batch.shape)"
      ],
      "execution_count": 24,
      "outputs": [
        {
          "output_type": "stream",
          "text": [
            "(128, 28, 28)\n"
          ],
          "name": "stdout"
        }
      ]
    },
    {
      "cell_type": "code",
      "metadata": {
        "id": "4KqtU-85F6cs",
        "outputId": "3ee305f2-37c4-4d06-b057-fbe6f5464760",
        "colab": {
          "base_uri": "https://localhost:8080/"
        }
      },
      "source": [
        "batch = train_images[128:256]\n",
        "print(batch.shape)"
      ],
      "execution_count": 25,
      "outputs": [
        {
          "output_type": "stream",
          "text": [
            "(128, 28, 28)\n"
          ],
          "name": "stdout"
        }
      ]
    },
    {
      "cell_type": "code",
      "metadata": {
        "id": "Dz5gplJCF-Zy",
        "outputId": "b59c17bb-1ca3-4e86-d2a5-9667b6a5cc81",
        "colab": {
          "base_uri": "https://localhost:8080/"
        }
      },
      "source": [
        "batch_size = 128\n",
        "batch_images = train_images[:1024].reshape(-1, 128, 28, 28)\n",
        "print(batch_images.shape)"
      ],
      "execution_count": 35,
      "outputs": [
        {
          "output_type": "stream",
          "text": [
            "(8, 128, 28, 28)\n"
          ],
          "name": "stdout"
        }
      ]
    },
    {
      "cell_type": "code",
      "metadata": {
        "id": "v1-7SZTvH3M5",
        "outputId": "ffb0b086-6ba1-41d4-ccfa-e3f2998d5e00",
        "colab": {
          "base_uri": "https://localhost:8080/",
          "height": 282
        }
      },
      "source": [
        "batch_num = 0\n",
        "image_num = 1\n",
        "plt.imshow(batch_images[batch_num, image_num], cmap = plt.cm.binary)"
      ],
      "execution_count": 39,
      "outputs": [
        {
          "output_type": "execute_result",
          "data": {
            "text/plain": [
              "<matplotlib.image.AxesImage at 0x7f786ce9c940>"
            ]
          },
          "metadata": {
            "tags": []
          },
          "execution_count": 39
        },
        {
          "output_type": "display_data",
          "data": {
            "image/png": "[encoded data removed]",
            "text/plain": [
              "<Figure size 432x288 with 1 Axes>"
            ]
          },
          "metadata": {
            "tags": [],
            "needs_background": "light"
          }
        }
      ]
    },
    {
      "cell_type": "markdown",
      "metadata": {
        "id": "XYRiE0-9GwCM"
      },
      "source": [
        "## Ejemplos\n",
        "\n",
        "\n",
        "- **Datos en vectores** tensores de 2D (observaciones, atributos)\n",
        "- **Series de tiempo o datos secuenciales** Tensores de 3D (observaciones, tiempo, atributos)\n",
        "- **Imagenes** Tensores de 4D (observaciones, alto, ancho, canal) o (observaciones, canal, alto, ancho)\n",
        "- **Video** Tensores de 5D (observaciones, _frames_, alto, ancho, canal) o (observaciones, _frames_, canal, alto, ancho)\n"
      ]
    },
    {
      "cell_type": "markdown",
      "metadata": {
        "id": "t_wE1tnlJu7S"
      },
      "source": [
        "¿Cuál sería la forma de guardar en un tensor un video de 60 segundos de YouTube de resolucion $144 \\times 256,$ muestreado a 4 imagenes por segundo?\n",
        "\n",
        "¿Cuál es el tamaño aproximado si se guarda en un tensor con `dtype` igual a `float32`?"
      ]
    }
  ]
}