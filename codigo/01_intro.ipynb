{
  "nbformat": 4,
  "nbformat_minor": 0,
  "metadata": {
    "colab": {
      "name": "01-intro.ipynb",
      "provenance": [],
      "authorship_tag": "ABX9TyME8ciAzKJPVwA12qi7+cME",
      "include_colab_link": true
    },
    "kernelspec": {
      "name": "python3",
      "display_name": "Python 3"
    },
    "accelerator": "GPU"
  },
  "cells": [
    {
      "cell_type": "markdown",
      "metadata": {
        "id": "view-in-github",
        "colab_type": "text"
      },
      "source": [
        "<a href=\"https://colab.research.google.com/github/ITAM-DS/deep-learning/blob/colab-notebooks/codigo/01_intro.ipynb\" target=\"_parent\"><img src=\"https://colab.research.google.com/assets/colab-badge.svg\" alt=\"Open In Colab\"/></a>"
      ]
    },
    {
      "cell_type": "markdown",
      "metadata": {
        "id": "kRR-PSJJhGY4"
      },
      "source": [
        "# Manipulacion de datos\n",
        "\n",
        "En general utilizamos arreglos para almacenar nuestros datos. Una instancia suficientemente general son los llamdos **tensores**. Estos representan las unidades básicas de almacenamiento en aplicaciones de Aprendizaje Profundo (DL). \n",
        "\n",
        "Si ya has estado familiarizada con _matrices_ entonces ya has trabajado con tensores de 2 dimensiones. Los tensores son generalizaciones de tensores a mas dimensiones.\n",
        "\n",
        "## Escalares (tensores de dimension 0) "
      ]
    },
    {
      "cell_type": "code",
      "metadata": {
        "id": "xzL5js94QYgG"
      },
      "source": [
        "import numpy as np\n",
        "import matplotlib.pyplot as plt\n",
        "from tensorflow.keras.datasets import mnist"
      ],
      "execution_count": 86,
      "outputs": []
    },
    {
      "cell_type": "code",
      "metadata": {
        "id": "OGRLEAALMrHK",
        "colab": {
          "base_uri": "https://localhost:8080/"
        },
        "outputId": "76db5035-de4f-499d-89e8-4d5efdc642d4"
      },
      "source": [
        "x = np.array(12)\n",
        "x"
      ],
      "execution_count": 87,
      "outputs": [
        {
          "output_type": "execute_result",
          "data": {
            "text/plain": [
              "array(12)"
            ]
          },
          "metadata": {
            "tags": []
          },
          "execution_count": 87
        }
      ]
    },
    {
      "cell_type": "code",
      "metadata": {
        "colab": {
          "base_uri": "https://localhost:8080/"
        },
        "id": "91WzY3bahD_E",
        "outputId": "a262ca06-05e8-4b74-e2b8-7a91ce988f11"
      },
      "source": [
        "x.ndim"
      ],
      "execution_count": 88,
      "outputs": [
        {
          "output_type": "execute_result",
          "data": {
            "text/plain": [
              "0"
            ]
          },
          "metadata": {
            "tags": []
          },
          "execution_count": 88
        }
      ]
    },
    {
      "cell_type": "markdown",
      "metadata": {
        "id": "c8Imb_3_jT55"
      },
      "source": [
        "## Vectores (tensores de dimension 1)\n"
      ]
    },
    {
      "cell_type": "code",
      "metadata": {
        "colab": {
          "base_uri": "https://localhost:8080/"
        },
        "id": "7AuG9zhyjSpC",
        "outputId": "7a8ffa35-1327-45c1-986d-cb5f213aa647"
      },
      "source": [
        "x = np.array([1, 4, 5 ,9])\n",
        "x"
      ],
      "execution_count": 89,
      "outputs": [
        {
          "output_type": "execute_result",
          "data": {
            "text/plain": [
              "array([1, 4, 5, 9])"
            ]
          },
          "metadata": {
            "tags": []
          },
          "execution_count": 89
        }
      ]
    },
    {
      "cell_type": "code",
      "metadata": {
        "colab": {
          "base_uri": "https://localhost:8080/"
        },
        "id": "F9Gwh9Hejn90",
        "outputId": "abba83e0-8d3d-4961-eb35-aae103dd2138"
      },
      "source": [
        "x.ndim"
      ],
      "execution_count": 90,
      "outputs": [
        {
          "output_type": "execute_result",
          "data": {
            "text/plain": [
              "1"
            ]
          },
          "metadata": {
            "tags": []
          },
          "execution_count": 90
        }
      ]
    },
    {
      "cell_type": "markdown",
      "metadata": {
        "id": "qdVGQZtpjq8A"
      },
      "source": [
        "## Matrices (tensores de dimension 2)\n"
      ]
    },
    {
      "cell_type": "code",
      "metadata": {
        "colab": {
          "base_uri": "https://localhost:8080/"
        },
        "id": "70jsKMFKju3X",
        "outputId": "e076912b-bf9a-4664-c4eb-8d19a97b5836"
      },
      "source": [
        "x = np.array([[5, 78, 2, 34, 0],\n",
        "              [6, 79, 3, 35, 1],\n",
        "              [7, 80, 4, 36, 2]])\n",
        "x"
      ],
      "execution_count": 91,
      "outputs": [
        {
          "output_type": "execute_result",
          "data": {
            "text/plain": [
              "array([[ 5, 78,  2, 34,  0],\n",
              "       [ 6, 79,  3, 35,  1],\n",
              "       [ 7, 80,  4, 36,  2]])"
            ]
          },
          "metadata": {
            "tags": []
          },
          "execution_count": 91
        }
      ]
    },
    {
      "cell_type": "code",
      "metadata": {
        "colab": {
          "base_uri": "https://localhost:8080/"
        },
        "id": "7PcI4fW7j1w7",
        "outputId": "c10a272a-17d2-4204-982b-faf3e8d763a0"
      },
      "source": [
        "x.ndim"
      ],
      "execution_count": 92,
      "outputs": [
        {
          "output_type": "execute_result",
          "data": {
            "text/plain": [
              "2"
            ]
          },
          "metadata": {
            "tags": []
          },
          "execution_count": 92
        }
      ]
    },
    {
      "cell_type": "markdown",
      "metadata": {
        "id": "VVmOVgPSj6e6"
      },
      "source": [
        "## Tensores de dimension 3"
      ]
    },
    {
      "cell_type": "code",
      "metadata": {
        "colab": {
          "base_uri": "https://localhost:8080/"
        },
        "id": "TRsY3LN-j-I3",
        "outputId": "672b426a-f10f-4ed5-e35d-5afe1feaa48a"
      },
      "source": [
        "x = np.array([[[5, 78, 2, 34, 0],\n",
        "                   [6, 79, 3, 35, 1],\n",
        "                   [7, 80, 4, 36, 2]],\n",
        "                  [[5, 78, 2, 34, 0],\n",
        "                   [6, 79, 3, 35, 1],\n",
        "                   [7, 80, 4, 36, 2]],\n",
        "                  [[5, 78, 2, 34, 0],\n",
        "                   [6, 79, 3, 35, 1],\n",
        "                   [7, 80, 4, 36, 2]]])\n",
        "x"
      ],
      "execution_count": 93,
      "outputs": [
        {
          "output_type": "execute_result",
          "data": {
            "text/plain": [
              "array([[[ 5, 78,  2, 34,  0],\n",
              "        [ 6, 79,  3, 35,  1],\n",
              "        [ 7, 80,  4, 36,  2]],\n",
              "\n",
              "       [[ 5, 78,  2, 34,  0],\n",
              "        [ 6, 79,  3, 35,  1],\n",
              "        [ 7, 80,  4, 36,  2]],\n",
              "\n",
              "       [[ 5, 78,  2, 34,  0],\n",
              "        [ 6, 79,  3, 35,  1],\n",
              "        [ 7, 80,  4, 36,  2]]])"
            ]
          },
          "metadata": {
            "tags": []
          },
          "execution_count": 93
        }
      ]
    },
    {
      "cell_type": "code",
      "metadata": {
        "colab": {
          "base_uri": "https://localhost:8080/"
        },
        "id": "MO62ETLEj-_C",
        "outputId": "1a21fd9a-4a9b-4dee-8499-a1c2a718a143"
      },
      "source": [
        "x.ndim"
      ],
      "execution_count": 94,
      "outputs": [
        {
          "output_type": "execute_result",
          "data": {
            "text/plain": [
              "3"
            ]
          },
          "metadata": {
            "tags": []
          },
          "execution_count": 94
        }
      ]
    },
    {
      "cell_type": "markdown",
      "metadata": {
        "id": "0ScOJwcIkotX"
      },
      "source": [
        "## Atributos clave\n",
        "\n",
        "Un tensor tiene tres atributos clave: \n",
        "\n",
        "- **Rango** El número de ejes (_axis_). Lo podemos verificar con el atributo `ndim` en arreglos de `Numpy`.\n",
        "- **Forma** (_Shape_) Es una tupla de enteros que describe cuantas dimensiones tiene el tensor en cada eje. La matriz anterior tiene forma `(3, 5)`, el tensor de 3 dimensiones tiene forma `(3, 3, 5)`. \n",
        "- **Tipo de datos** (_data type_) Es el tipo de datos contenido en un tensor (lo consultamos con la propiedad `dtype`). Los mas comunes son: \n",
        "`float32`, `uint8`, `float64`. \n",
        "\n",
        "Podemos explorar estas propiedades en un conjunto de datos clasico en DL. "
      ]
    },
    {
      "cell_type": "code",
      "metadata": {
        "id": "VrO-2d0AmjpN"
      },
      "source": [
        "from tensorflow.keras.datasets import mnist"
      ],
      "execution_count": 95,
      "outputs": []
    },
    {
      "cell_type": "code",
      "metadata": {
        "id": "KaFgTspbm0BO"
      },
      "source": [
        "(train_images, train_labels), (test_images, test_labels) = mnist.load_data()"
      ],
      "execution_count": 96,
      "outputs": []
    },
    {
      "cell_type": "code",
      "metadata": {
        "colab": {
          "base_uri": "https://localhost:8080/"
        },
        "id": "6qGGSCX4moo9",
        "outputId": "defb53c3-99c9-4517-bbf7-dd9f5ea3e7f4"
      },
      "source": [
        "print('Rank      :   %i'%train_images.ndim)\n",
        "print('Shape     : (%i, %i, %i)'%train_images.shape)\n",
        "print('Data type : %s'%train_images.dtype)"
      ],
      "execution_count": 97,
      "outputs": [
        {
          "output_type": "stream",
          "text": [
            "Rank      :   3\n",
            "Shape     : (60000, 28, 28)\n",
            "Data type : uint8\n"
          ],
          "name": "stdout"
        }
      ]
    },
    {
      "cell_type": "markdown",
      "metadata": {
        "id": "YQ6ppjNZuerK"
      },
      "source": [
        "### En la practica: manipulando MNIST"
      ]
    },
    {
      "cell_type": "code",
      "metadata": {
        "colab": {
          "base_uri": "https://localhost:8080/",
          "height": 282
        },
        "id": "C2qGx99IoNja",
        "outputId": "9df96dbe-7f70-4460-e265-13ce86204cdf"
      },
      "source": [
        "digit = train_images[4]\n",
        "\n",
        "plt.imshow(digit, cmap = plt.cm.binary)"
      ],
      "execution_count": 98,
      "outputs": [
        {
          "output_type": "execute_result",
          "data": {
            "text/plain": [
              "<matplotlib.image.AxesImage at 0x7f7ca8356f98>"
            ]
          },
          "metadata": {
            "tags": []
          },
          "execution_count": 98
        },
        {
          "output_type": "display_data",
          "data": {
            "image/png": "[encoded data removed]",
            "text/plain": [
              "<Figure size 432x288 with 1 Axes>"
            ]
          },
          "metadata": {
            "tags": [],
            "needs_background": "light"
          }
        }
      ]
    },
    {
      "cell_type": "code",
      "metadata": {
        "colab": {
          "base_uri": "https://localhost:8080/"
        },
        "id": "wKu526n5umV6",
        "outputId": "aeb70346-cfaa-46b9-a1b3-768e2cc0b65a"
      },
      "source": [
        "print('Rank      : %i'%digit.ndim)\n",
        "print('Shape     : (%i, %i)'%digit.shape)\n",
        "print('Data type : %s'%digit.dtype)"
      ],
      "execution_count": 99,
      "outputs": [
        {
          "output_type": "stream",
          "text": [
            "Rank      : 2\n",
            "Shape     : (28, 28)\n",
            "Data type : uint8\n"
          ],
          "name": "stdout"
        }
      ]
    },
    {
      "cell_type": "markdown",
      "metadata": {
        "id": "IswlamluEPqp"
      },
      "source": [
        "## Operaciones de corte (_slicing_)"
      ]
    },
    {
      "cell_type": "code",
      "metadata": {
        "colab": {
          "base_uri": "https://localhost:8080/"
        },
        "id": "VMKLdaLdEOaU",
        "outputId": "6f5c444a-af52-4c21-e299-ed091e076926"
      },
      "source": [
        "my_slice_1 = train_images[0:100]\n",
        "print(my_slice_1.shape)"
      ],
      "execution_count": 100,
      "outputs": [
        {
          "output_type": "stream",
          "text": [
            "(100, 28, 28)\n"
          ],
          "name": "stdout"
        }
      ]
    },
    {
      "cell_type": "code",
      "metadata": {
        "colab": {
          "base_uri": "https://localhost:8080/"
        },
        "id": "FK2J3dsuElm5",
        "outputId": "2035660d-0829-44f0-c535-e8301e621e0f"
      },
      "source": [
        "my_slice_2 = train_images[0:100, :, :]\n",
        "print(my_slice_2.shape)"
      ],
      "execution_count": 101,
      "outputs": [
        {
          "output_type": "stream",
          "text": [
            "(100, 28, 28)\n"
          ],
          "name": "stdout"
        }
      ]
    },
    {
      "cell_type": "code",
      "metadata": {
        "colab": {
          "base_uri": "https://localhost:8080/"
        },
        "id": "4wIN3BNAEuUL",
        "outputId": "952bdda6-ab57-459b-f9ae-46ba0bda2c29"
      },
      "source": [
        "my_slice_3 = train_images[0:100, 0:28, 0:28]\n",
        "print(my_slice_3.shape)"
      ],
      "execution_count": 102,
      "outputs": [
        {
          "output_type": "stream",
          "text": [
            "(100, 28, 28)\n"
          ],
          "name": "stdout"
        }
      ]
    },
    {
      "cell_type": "code",
      "metadata": {
        "colab": {
          "base_uri": "https://localhost:8080/"
        },
        "id": "joLLAVWcEy8D",
        "outputId": "f54a2e7f-8a85-4ab0-833e-badf2ee36e54"
      },
      "source": [
        "print((my_slice_1 == my_slice_2).all())\n",
        "print((my_slice_1 == my_slice_3).all())\n",
        "print((my_slice_3 == my_slice_2).all())"
      ],
      "execution_count": 103,
      "outputs": [
        {
          "output_type": "stream",
          "text": [
            "True\n",
            "True\n",
            "True\n"
          ],
          "name": "stdout"
        }
      ]
    },
    {
      "cell_type": "markdown",
      "metadata": {
        "id": "ZhMSDDOyFvEO"
      },
      "source": [
        "## Bloques de datos"
      ]
    },
    {
      "cell_type": "code",
      "metadata": {
        "colab": {
          "base_uri": "https://localhost:8080/"
        },
        "id": "z7Q_dJbAFtGR",
        "outputId": "80eb13f5-ba66-4074-d458-65f78c417807"
      },
      "source": [
        "batch = train_images[:128]\n",
        "print(batch.shape)"
      ],
      "execution_count": 104,
      "outputs": [
        {
          "output_type": "stream",
          "text": [
            "(128, 28, 28)\n"
          ],
          "name": "stdout"
        }
      ]
    },
    {
      "cell_type": "code",
      "metadata": {
        "colab": {
          "base_uri": "https://localhost:8080/"
        },
        "id": "4KqtU-85F6cs",
        "outputId": "3c058cf7-e1f3-4d76-b5f3-dc53968b0c5a"
      },
      "source": [
        "batch = train_images[128:256]\n",
        "print(batch.shape)"
      ],
      "execution_count": 105,
      "outputs": [
        {
          "output_type": "stream",
          "text": [
            "(128, 28, 28)\n"
          ],
          "name": "stdout"
        }
      ]
    },
    {
      "cell_type": "code",
      "metadata": {
        "colab": {
          "base_uri": "https://localhost:8080/"
        },
        "id": "Dz5gplJCF-Zy",
        "outputId": "3ebc8cb3-13ca-4db0-8d18-084d8dc4e882"
      },
      "source": [
        "batch_size = 128\n",
        "batch_images = train_images[:1024].reshape(-1, 128, 28, 28)\n",
        "print(batch_images.shape)"
      ],
      "execution_count": 106,
      "outputs": [
        {
          "output_type": "stream",
          "text": [
            "(8, 128, 28, 28)\n"
          ],
          "name": "stdout"
        }
      ]
    },
    {
      "cell_type": "code",
      "metadata": {
        "colab": {
          "base_uri": "https://localhost:8080/",
          "height": 282
        },
        "id": "v1-7SZTvH3M5",
        "outputId": "dd57702d-0ec2-4efe-9a3b-fac841a1cdc4"
      },
      "source": [
        "batch_num = 0\n",
        "image_num = 1\n",
        "plt.imshow(batch_images[batch_num, image_num], cmap = plt.cm.binary)"
      ],
      "execution_count": 107,
      "outputs": [
        {
          "output_type": "execute_result",
          "data": {
            "text/plain": [
              "<matplotlib.image.AxesImage at 0x7f7ca82c52e8>"
            ]
          },
          "metadata": {
            "tags": []
          },
          "execution_count": 107
        },
        {
          "output_type": "display_data",
          "data": {
            "image/png": "[encoded data removed]",
            "text/plain": [
              "<Figure size 432x288 with 1 Axes>"
            ]
          },
          "metadata": {
            "tags": [],
            "needs_background": "light"
          }
        }
      ]
    },
    {
      "cell_type": "markdown",
      "metadata": {
        "id": "XYRiE0-9GwCM"
      },
      "source": [
        "## Ejemplos\n",
        "\n",
        "\n",
        "- **Datos en vectores** tensores de 2D (observaciones, atributos)\n",
        "- **Series de tiempo o datos secuenciales** Tensores de 3D (observaciones, tiempo, atributos)\n",
        "- **Imagenes** Tensores de 4D (observaciones, alto, ancho, canal) o (observaciones, canal, alto, ancho)\n",
        "- **Video** Tensores de 5D (observaciones, _frames_, alto, ancho, canal) o (observaciones, _frames_, canal, alto, ancho)\n"
      ]
    },
    {
      "cell_type": "markdown",
      "metadata": {
        "id": "t_wE1tnlJu7S"
      },
      "source": [
        "¿Cuál sería la forma de guardar en un tensor un video de 60 segundos de YouTube de resolucion $144 \\times 256,$ muestreado a 4 imagenes por segundo?\n",
        "\n",
        "¿Cuál es el tamaño aproximado si se guarda en un tensor con `dtype` igual a `float32`?"
      ]
    },
    {
      "cell_type": "markdown",
      "metadata": {
        "id": "M4tXJ0PRQ4X1"
      },
      "source": [
        "## Ajustando una red neuronal"
      ]
    },
    {
      "cell_type": "code",
      "metadata": {
        "id": "t8EF-VfzQ0A3",
        "outputId": "daf929aa-4fc1-4ac8-9f59-e0386238a443",
        "colab": {
          "base_uri": "https://localhost:8080/"
        }
      },
      "source": [
        "train_labels"
      ],
      "execution_count": 108,
      "outputs": [
        {
          "output_type": "execute_result",
          "data": {
            "text/plain": [
              "array([5, 0, 4, ..., 5, 6, 8], dtype=uint8)"
            ]
          },
          "metadata": {
            "tags": []
          },
          "execution_count": 108
        }
      ]
    },
    {
      "cell_type": "code",
      "metadata": {
        "id": "m6Pjcf3lQ_fF",
        "outputId": "148f4ae2-8b31-485b-8d28-f9f2130331bc",
        "colab": {
          "base_uri": "https://localhost:8080/"
        }
      },
      "source": [
        "print(train_images.shape)\n",
        "print(test_images.shape)"
      ],
      "execution_count": 109,
      "outputs": [
        {
          "output_type": "stream",
          "text": [
            "(60000, 28, 28)\n",
            "(10000, 28, 28)\n"
          ],
          "name": "stdout"
        }
      ]
    },
    {
      "cell_type": "code",
      "metadata": {
        "id": "faRh8ZAVRIHD"
      },
      "source": [
        "from tensorflow.keras import models\n",
        "from tensorflow.keras import layers"
      ],
      "execution_count": 110,
      "outputs": []
    },
    {
      "cell_type": "code",
      "metadata": {
        "id": "TI6G7I9RRQ3R"
      },
      "source": [
        "network = models.Sequential()\n",
        "network.add(layers.Dense(512, activation='relu', input_shape=(28 * 28,)))\n",
        "network.add(layers.Dense(10 , activation='softmax'))"
      ],
      "execution_count": 111,
      "outputs": []
    },
    {
      "cell_type": "code",
      "metadata": {
        "id": "cPwCpxecReye"
      },
      "source": [
        "network.compile(optimizer='rmsprop',\n",
        "                loss='categorical_crossentropy',\n",
        "                metrics=['accuracy'])"
      ],
      "execution_count": 112,
      "outputs": []
    },
    {
      "cell_type": "code",
      "metadata": {
        "id": "4DkGh2CiRmu2"
      },
      "source": [
        "train_images = train_images.reshape((60000, 28 * 28))\n",
        "train_images = train_images.astype('float32') / 255\n",
        "\n",
        "test_images = test_images.reshape((10000, 28 * 28))\n",
        "test_images = test_images.astype('float32') / 255"
      ],
      "execution_count": 113,
      "outputs": []
    },
    {
      "cell_type": "code",
      "metadata": {
        "id": "CmPzm8G-RpjN"
      },
      "source": [
        "from tensorflow.keras.utils import to_categorical\n",
        "\n",
        "train_labels = to_categorical(train_labels)\n",
        "test_labels = to_categorical(test_labels)"
      ],
      "execution_count": 114,
      "outputs": []
    },
    {
      "cell_type": "code",
      "metadata": {
        "id": "-UJXlKVTXwlO"
      },
      "source": [
        "train_size = 20000\n",
        "val_images = train_images[train_size:]\n",
        "partial_train_images = train_images[:train_size]\n",
        "\n",
        "val_labels = train_labels[train_size:]\n",
        "partial_train_labels = train_labels[:train_size]\n"
      ],
      "execution_count": 115,
      "outputs": []
    },
    {
      "cell_type": "code",
      "metadata": {
        "id": "fh4LeZJERtbE",
        "outputId": "cb5728d7-717d-494a-b9ec-92ba32014aef",
        "colab": {
          "base_uri": "https://localhost:8080/"
        }
      },
      "source": [
        "train_labels"
      ],
      "execution_count": 116,
      "outputs": [
        {
          "output_type": "execute_result",
          "data": {
            "text/plain": [
              "array([[0., 0., 0., ..., 0., 0., 0.],\n",
              "       [1., 0., 0., ..., 0., 0., 0.],\n",
              "       [0., 0., 0., ..., 0., 0., 0.],\n",
              "       ...,\n",
              "       [0., 0., 0., ..., 0., 0., 0.],\n",
              "       [0., 0., 0., ..., 0., 0., 0.],\n",
              "       [0., 0., 0., ..., 0., 1., 0.]], dtype=float32)"
            ]
          },
          "metadata": {
            "tags": []
          },
          "execution_count": 116
        }
      ]
    },
    {
      "cell_type": "code",
      "metadata": {
        "id": "9WUSsdTVRxi4",
        "outputId": "f709fff5-8ecd-4996-b9a5-e6627b1bbcfa",
        "colab": {
          "base_uri": "https://localhost:8080/"
        }
      },
      "source": [
        "history = network.fit(partial_train_images, \n",
        "                      partial_train_labels, \n",
        "                      epochs=20, \n",
        "                      batch_size=128, \n",
        "                      validation_data = (val_images, val_labels))"
      ],
      "execution_count": 117,
      "outputs": [
        {
          "output_type": "stream",
          "text": [
            "Epoch 1/20\n",
            "157/157 [==============================] - 2s 8ms/step - loss: 0.6564 - accuracy: 0.8068 - val_loss: 0.2475 - val_accuracy: 0.9294\n",
            "Epoch 2/20\n",
            "157/157 [==============================] - 1s 7ms/step - loss: 0.2003 - accuracy: 0.9419 - val_loss: 0.2071 - val_accuracy: 0.9367\n",
            "Epoch 3/20\n",
            "157/157 [==============================] - 1s 8ms/step - loss: 0.1249 - accuracy: 0.9648 - val_loss: 0.1898 - val_accuracy: 0.9428\n",
            "Epoch 4/20\n",
            "157/157 [==============================] - 1s 7ms/step - loss: 0.0830 - accuracy: 0.9752 - val_loss: 0.1508 - val_accuracy: 0.9555\n",
            "Epoch 5/20\n",
            "157/157 [==============================] - 1s 7ms/step - loss: 0.0589 - accuracy: 0.9841 - val_loss: 0.1184 - val_accuracy: 0.9654\n",
            "Epoch 6/20\n",
            "157/157 [==============================] - 1s 7ms/step - loss: 0.0437 - accuracy: 0.9883 - val_loss: 0.1199 - val_accuracy: 0.9647\n",
            "Epoch 7/20\n",
            "157/157 [==============================] - 1s 7ms/step - loss: 0.0323 - accuracy: 0.9916 - val_loss: 0.1319 - val_accuracy: 0.9616\n",
            "Epoch 8/20\n",
            "157/157 [==============================] - 1s 7ms/step - loss: 0.0243 - accuracy: 0.9940 - val_loss: 0.1339 - val_accuracy: 0.9635\n",
            "Epoch 9/20\n",
            "157/157 [==============================] - 1s 7ms/step - loss: 0.0185 - accuracy: 0.9952 - val_loss: 0.1260 - val_accuracy: 0.9663\n",
            "Epoch 10/20\n",
            "157/157 [==============================] - 1s 7ms/step - loss: 0.0141 - accuracy: 0.9973 - val_loss: 0.1379 - val_accuracy: 0.9650\n",
            "Epoch 11/20\n",
            "157/157 [==============================] - 1s 7ms/step - loss: 0.0101 - accuracy: 0.9980 - val_loss: 0.1363 - val_accuracy: 0.9659\n",
            "Epoch 12/20\n",
            "157/157 [==============================] - 1s 7ms/step - loss: 0.0064 - accuracy: 0.9987 - val_loss: 0.1273 - val_accuracy: 0.9695\n",
            "Epoch 13/20\n",
            "157/157 [==============================] - 1s 7ms/step - loss: 0.0047 - accuracy: 0.9993 - val_loss: 0.1321 - val_accuracy: 0.9696\n",
            "Epoch 14/20\n",
            "157/157 [==============================] - 1s 7ms/step - loss: 0.0030 - accuracy: 0.9998 - val_loss: 0.1408 - val_accuracy: 0.9688\n",
            "Epoch 15/20\n",
            "157/157 [==============================] - 1s 7ms/step - loss: 0.0026 - accuracy: 0.9997 - val_loss: 0.1392 - val_accuracy: 0.9696\n",
            "Epoch 16/20\n",
            "157/157 [==============================] - 1s 7ms/step - loss: 0.0020 - accuracy: 0.9997 - val_loss: 0.1447 - val_accuracy: 0.9715\n",
            "Epoch 17/20\n",
            "157/157 [==============================] - 1s 7ms/step - loss: 0.0013 - accuracy: 0.9999 - val_loss: 0.1499 - val_accuracy: 0.9710\n",
            "Epoch 18/20\n",
            "157/157 [==============================] - 1s 7ms/step - loss: 0.0010 - accuracy: 0.9999 - val_loss: 0.1613 - val_accuracy: 0.9683\n",
            "Epoch 19/20\n",
            "157/157 [==============================] - 1s 7ms/step - loss: 0.0010 - accuracy: 0.9999 - val_loss: 0.1620 - val_accuracy: 0.9707\n",
            "Epoch 20/20\n",
            "157/157 [==============================] - 1s 7ms/step - loss: 7.9095e-04 - accuracy: 0.9998 - val_loss: 0.1646 - val_accuracy: 0.9709\n"
          ],
          "name": "stdout"
        }
      ]
    },
    {
      "cell_type": "code",
      "metadata": {
        "id": "IxZ3cLRtR8sm",
        "outputId": "8ccc1de5-3284-4350-9f00-a93262358b55",
        "colab": {
          "base_uri": "https://localhost:8080/"
        }
      },
      "source": [
        "test_loss, test_acc = network.evaluate(test_images, test_labels)"
      ],
      "execution_count": 118,
      "outputs": [
        {
          "output_type": "stream",
          "text": [
            "313/313 [==============================] - 1s 2ms/step - loss: 0.1401 - accuracy: 0.9736\n"
          ],
          "name": "stdout"
        }
      ]
    },
    {
      "cell_type": "code",
      "metadata": {
        "id": "NMGUPJcHR9pk",
        "outputId": "af362d43-4b7b-4fa2-fe09-0b6a846b869a",
        "colab": {
          "base_uri": "https://localhost:8080/"
        }
      },
      "source": [
        "print('Precision en prueba:', np.round(test_acc, 5))"
      ],
      "execution_count": 119,
      "outputs": [
        {
          "output_type": "stream",
          "text": [
            "Precision en prueba: 0.9736\n"
          ],
          "name": "stdout"
        }
      ]
    },
    {
      "cell_type": "code",
      "metadata": {
        "id": "sRNKFqrlWlkd",
        "outputId": "795c0cbc-8fcc-468e-d58d-9ae90bfa83c9",
        "colab": {
          "base_uri": "https://localhost:8080/"
        }
      },
      "source": [
        "history.history.keys()"
      ],
      "execution_count": 120,
      "outputs": [
        {
          "output_type": "execute_result",
          "data": {
            "text/plain": [
              "dict_keys(['loss', 'accuracy', 'val_loss', 'val_accuracy'])"
            ]
          },
          "metadata": {
            "tags": []
          },
          "execution_count": 120
        }
      ]
    },
    {
      "cell_type": "code",
      "metadata": {
        "id": "9y9NaNt6YsNd",
        "outputId": "dcb128f2-174a-41d7-830e-a93413a8e80c",
        "colab": {
          "base_uri": "https://localhost:8080/",
          "height": 312
        }
      },
      "source": [
        "plt.plot(history.history['loss'], label = 'Training loss')\n",
        "plt.plot(history.history['val_loss'], label = 'Validation loss')\n",
        "plt.title('Training and validation loss')\n",
        "plt.xlabel('Epochs')\n",
        "plt.ylabel('Loss')\n",
        "plt.legend()"
      ],
      "execution_count": 121,
      "outputs": [
        {
          "output_type": "execute_result",
          "data": {
            "text/plain": [
              "<matplotlib.legend.Legend at 0x7f7ca82a4e48>"
            ]
          },
          "metadata": {
            "tags": []
          },
          "execution_count": 121
        },
        {
          "output_type": "display_data",
          "data": {
            "image/png": "[encoded data removed]",
            "text/plain": [
              "<Figure size 432x288 with 1 Axes>"
            ]
          },
          "metadata": {
            "tags": [],
            "needs_background": "light"
          }
        }
      ]
    },
    {
      "cell_type": "code",
      "metadata": {
        "id": "WBk4x5JXY8HH",
        "outputId": "537dc1bb-9ccb-4eb2-c8ea-ea3aae26be21",
        "colab": {
          "base_uri": "https://localhost:8080/",
          "height": 312
        }
      },
      "source": [
        "plt.plot(history.history['accuracy'], label = \"Training accuracy\")\n",
        "plt.plot(history.history['val_accuracy'], label = \"Validation accuracy\")\n",
        "plt.title('Training and validation accuracy')\n",
        "plt.xlabel('Epochs')\n",
        "plt.ylabel('Accuracy')\n",
        "plt.legend()"
      ],
      "execution_count": 122,
      "outputs": [
        {
          "output_type": "execute_result",
          "data": {
            "text/plain": [
              "<matplotlib.legend.Legend at 0x7f7ca8136940>"
            ]
          },
          "metadata": {
            "tags": []
          },
          "execution_count": 122
        },
        {
          "output_type": "display_data",
          "data": {
            "image/png": "[encoded data removed]",
            "text/plain": [
              "<Figure size 432x288 with 1 Axes>"
            ]
          },
          "metadata": {
            "tags": [],
            "needs_background": "light"
          }
        }
      ]
    }
  ]
}