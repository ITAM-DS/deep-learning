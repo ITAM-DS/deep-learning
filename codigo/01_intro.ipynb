{
  "nbformat": 4,
  "nbformat_minor": 0,
  "metadata": {
    "colab": {
      "name": "01-intro.ipynb",
      "provenance": [],
      "authorship_tag": "ABX9TyN+4aepJfv5vaxJbLCg2tkR",
      "include_colab_link": true
    },
    "kernelspec": {
      "name": "python3",
      "display_name": "Python 3"
    }
  },
  "cells": [
    {
      "cell_type": "markdown",
      "metadata": {
        "id": "view-in-github",
        "colab_type": "text"
      },
      "source": [
        "<a href=\"https://colab.research.google.com/github/ITAM-DS/deep-learning/blob/colab-notebooks/codigo/01_intro.ipynb\" target=\"_parent\"><img src=\"https://colab.research.google.com/assets/colab-badge.svg\" alt=\"Open In Colab\"/></a>"
      ]
    },
    {
      "cell_type": "markdown",
      "metadata": {
        "id": "kRR-PSJJhGY4"
      },
      "source": [
        "# Manipulacion de datos\n",
        "\n",
        "En general utilizamos arreglos para almacenar nuestros datos. Una instancia suficientemente general son los llamdos **tensores**. Estos representan las unidades básicas de almacenamiento en aplicaciones de Aprendizaje Profundo (DL). \n",
        "\n",
        "Si ya has estado familiarizada con _matrices_ entonces ya has trabajado con tensores de 2 dimensiones. Los tensores son generalizaciones de tensores a mas dimensiones.\n",
        "\n",
        "## Escalares (tensores de dimension 0) "
      ]
    },
    {
      "cell_type": "code",
      "metadata": {
        "id": "OGRLEAALMrHK",
        "outputId": "0dcc3386-a88e-471a-c3f2-5f3e791fe27f",
        "colab": {
          "base_uri": "https://localhost:8080/"
        }
      },
      "source": [
        "import numpy as np\n",
        "x = np.array(12)\n",
        "x"
      ],
      "execution_count": 2,
      "outputs": [
        {
          "output_type": "execute_result",
          "data": {
            "text/plain": [
              "array(12)"
            ]
          },
          "metadata": {
            "tags": []
          },
          "execution_count": 2
        }
      ]
    },
    {
      "cell_type": "code",
      "metadata": {
        "id": "91WzY3bahD_E",
        "outputId": "5da307a1-1b5a-4fc2-a689-feaad316f7e0",
        "colab": {
          "base_uri": "https://localhost:8080/"
        }
      },
      "source": [
        "x.ndim"
      ],
      "execution_count": 3,
      "outputs": [
        {
          "output_type": "execute_result",
          "data": {
            "text/plain": [
              "0"
            ]
          },
          "metadata": {
            "tags": []
          },
          "execution_count": 3
        }
      ]
    },
    {
      "cell_type": "markdown",
      "metadata": {
        "id": "c8Imb_3_jT55"
      },
      "source": [
        "## Vectores (tensores de dimension 1)\n"
      ]
    },
    {
      "cell_type": "code",
      "metadata": {
        "id": "7AuG9zhyjSpC",
        "outputId": "ea1231d9-43b0-4ceb-d8e6-ef38a732002e",
        "colab": {
          "base_uri": "https://localhost:8080/"
        }
      },
      "source": [
        "x = np.array([1, 4, 5 ,9])\n",
        "x"
      ],
      "execution_count": 7,
      "outputs": [
        {
          "output_type": "execute_result",
          "data": {
            "text/plain": [
              "array([1, 4, 5, 9])"
            ]
          },
          "metadata": {
            "tags": []
          },
          "execution_count": 7
        }
      ]
    },
    {
      "cell_type": "code",
      "metadata": {
        "id": "F9Gwh9Hejn90",
        "outputId": "2ee3426d-6486-4dec-d77f-ec58cbbfee36",
        "colab": {
          "base_uri": "https://localhost:8080/"
        }
      },
      "source": [
        "x.ndim"
      ],
      "execution_count": 8,
      "outputs": [
        {
          "output_type": "execute_result",
          "data": {
            "text/plain": [
              "1"
            ]
          },
          "metadata": {
            "tags": []
          },
          "execution_count": 8
        }
      ]
    },
    {
      "cell_type": "markdown",
      "metadata": {
        "id": "qdVGQZtpjq8A"
      },
      "source": [
        "## Matrices (tensores de dimension 2)\n"
      ]
    },
    {
      "cell_type": "code",
      "metadata": {
        "id": "70jsKMFKju3X",
        "outputId": "e04c4e33-c532-46b8-b1f4-ac80241412ee",
        "colab": {
          "base_uri": "https://localhost:8080/"
        }
      },
      "source": [
        "x = np.array([[5, 78, 2, 34, 0],\n",
        "              [6, 79, 3, 35, 1],\n",
        "              [7, 80, 4, 36, 2]])\n",
        "x"
      ],
      "execution_count": 11,
      "outputs": [
        {
          "output_type": "execute_result",
          "data": {
            "text/plain": [
              "array([[ 5, 78,  2, 34,  0],\n",
              "       [ 6, 79,  3, 35,  1],\n",
              "       [ 7, 80,  4, 36,  2]])"
            ]
          },
          "metadata": {
            "tags": []
          },
          "execution_count": 11
        }
      ]
    },
    {
      "cell_type": "code",
      "metadata": {
        "id": "7PcI4fW7j1w7",
        "outputId": "a7a85b65-2431-4283-82af-960a1ff34ec8",
        "colab": {
          "base_uri": "https://localhost:8080/"
        }
      },
      "source": [
        "x.ndim"
      ],
      "execution_count": 12,
      "outputs": [
        {
          "output_type": "execute_result",
          "data": {
            "text/plain": [
              "2"
            ]
          },
          "metadata": {
            "tags": []
          },
          "execution_count": 12
        }
      ]
    },
    {
      "cell_type": "markdown",
      "metadata": {
        "id": "VVmOVgPSj6e6"
      },
      "source": [
        "## Tensores de dimension 3"
      ]
    },
    {
      "cell_type": "code",
      "metadata": {
        "id": "TRsY3LN-j-I3",
        "outputId": "9f6360ca-2c72-4560-f793-3f25aaa6151d",
        "colab": {
          "base_uri": "https://localhost:8080/"
        }
      },
      "source": [
        "x = np.array([[[5, 78, 2, 34, 0],\n",
        "                   [6, 79, 3, 35, 1],\n",
        "                   [7, 80, 4, 36, 2]],\n",
        "                  [[5, 78, 2, 34, 0],\n",
        "                   [6, 79, 3, 35, 1],\n",
        "                   [7, 80, 4, 36, 2]],\n",
        "                  [[5, 78, 2, 34, 0],\n",
        "                   [6, 79, 3, 35, 1],\n",
        "                   [7, 80, 4, 36, 2]]])\n",
        "x"
      ],
      "execution_count": 15,
      "outputs": [
        {
          "output_type": "execute_result",
          "data": {
            "text/plain": [
              "array([[[ 5, 78,  2, 34,  0],\n",
              "        [ 6, 79,  3, 35,  1],\n",
              "        [ 7, 80,  4, 36,  2]],\n",
              "\n",
              "       [[ 5, 78,  2, 34,  0],\n",
              "        [ 6, 79,  3, 35,  1],\n",
              "        [ 7, 80,  4, 36,  2]],\n",
              "\n",
              "       [[ 5, 78,  2, 34,  0],\n",
              "        [ 6, 79,  3, 35,  1],\n",
              "        [ 7, 80,  4, 36,  2]]])"
            ]
          },
          "metadata": {
            "tags": []
          },
          "execution_count": 15
        }
      ]
    },
    {
      "cell_type": "code",
      "metadata": {
        "id": "MO62ETLEj-_C",
        "outputId": "ce062a70-65dd-4bb6-8737-15ebfff117e6",
        "colab": {
          "base_uri": "https://localhost:8080/"
        }
      },
      "source": [
        "x.ndim"
      ],
      "execution_count": 14,
      "outputs": [
        {
          "output_type": "execute_result",
          "data": {
            "text/plain": [
              "3"
            ]
          },
          "metadata": {
            "tags": []
          },
          "execution_count": 14
        }
      ]
    },
    {
      "cell_type": "markdown",
      "metadata": {
        "id": "0ScOJwcIkotX"
      },
      "source": [
        "## Atributos clave\n",
        "\n",
        "Un tensor tiene tres atributos clave: \n",
        "\n",
        "- **Rango** El número de ejes (_axis_). Lo podemos verificar con el atributo `ndim` en arreglos de `Numpy`.\n",
        "- **Forma** (_Shape_) Es una tupla de enteros que describe cuantas dimensiones tiene el tensor en cada eje. La matriz anterior tiene forma `(3, 5)`, el tensor de 3 dimensiones tiene forma `(3, 3, 5)`. \n",
        "\n"
      ]
    }
  ]
}